{
 "cells": [
  {
   "cell_type": "markdown",
   "metadata": {},
   "source": [
    "# Graph Theory and Representation Notes\n",
    "\n",
    "## Part 1: Introduction to Graphs\n",
    "\n",
    "### What is a Graph?\n",
    "A graph is a more general structure than trees - we can think of trees as a special kind of graph. Graphs are powerful data structures that can represent many real-world relationships and systems.\n",
    "\n",
    "### Real-World Applications\n",
    "- **Road systems**: Cities connected by roads\n",
    "- **Airline networks**: Flight routes between cities  \n",
    "- **Internet connectivity**: How networks are interconnected\n",
    "- **Course prerequisites**: Academic course dependencies\n",
    "- **Social networks**: Relationships between people\n",
    "\n",
    "### Formal Definition\n",
    "A graph G can be represented as **G = (V, E)** where:\n",
    "- **V**: Set of vertices (nodes)\n",
    "- **E**: Set of edges (connections)\n",
    "- Each edge is a tuple **(v, w)** where v, w ∈ V\n",
    "- Can include a third component for **weight**: **(v, w, weight)**\n",
    "\n",
    "### Key Components\n",
    "\n",
    "#### Vertex (Node)\n",
    "- Fundamental part of a graph\n",
    "- Has a **key** (name/identifier)\n",
    "- May have additional **payload** (extra information)\n",
    "- Example: In a city graph, vertex could be city name with population as payload\n",
    "\n",
    "#### Edge\n",
    "- Connects two vertices showing a relationship\n",
    "- **Directed edges**: One-way connection (digraph/directed graph)\n",
    "- **Undirected edges**: Two-way connection\n",
    "- Example: Course prerequisites require directed edges (A → B means A before B)\n",
    "\n",
    "#### Weight\n",
    "- Optional value on edges representing cost/distance/strength\n",
    "- Example: In road networks, weight might represent:\n",
    "  - Distance between cities\n",
    "  - Travel time\n",
    "  - Toll cost\n",
    "\n",
    "### Graph Terminology\n",
    "\n",
    "#### Path\n",
    "- **Definition**: Sequence of vertices connected by edges\n",
    "- **Formal**: w₁, w₂, ..., wₙ such that (wᵢ, wᵢ₊₁) ∈ E for all 1 ≤ i ≤ n-1\n",
    "- **Unweighted path length**: Number of edges (n-1)\n",
    "- **Weighted path length**: Sum of all edge weights in the path\n",
    "\n",
    "**Example**: Path from V3 to V1: (V3, V4, V0, V1)\n",
    "- Edges: {(v3,v4,7), (v4,v0,1), (v0,v1,5)}\n",
    "- Unweighted length: 3 edges\n",
    "- Weighted length: 7 + 1 + 5 = 13\n",
    "\n",
    "#### Cycle\n",
    "- **Definition**: Path that starts and ends at the same vertex\n",
    "- **Example**: (V5, V2, V3, V5) forms a cycle\n",
    "- **Acyclic graph**: Graph with no cycles\n",
    "- **DAG**: Directed Acyclic Graph - important for solving many computational problems\n",
    "\n",
    "#### Subgraph\n",
    "- Set of edges e and vertices v such that e ⊂ E and v ⊂ V\n",
    "- Portion of the original graph maintaining the graph structure\n",
    "\n",
    "### Example Graph Analysis\n",
    "```\n",
    "V = {V0, V1, V2, V3, V4, V5}\n",
    "E = {(v0,v1,5), (v1,v2,4), (v2,v3,9), (v3,v4,7), \n",
    "     (v4,v0,1), (v0,v5,2), (v5,v4,8), (v3,v5,3), (v5,v2,1)}\n",
    "```\n",
    "\n",
    "This represents a **weighted directed graph** with 6 vertices and 9 edges."
   ]
  },
  {
   "cell_type": "markdown",
   "metadata": {},
   "source": [
    "# Implementation of Graph Overview\n",
    "___\n",
    "The graph will be directed and the edges can hold weights.\n",
    "\n",
    "We will have three classes, a State class, a Node class, and finally the Graph class.\n",
    "\n",
    "We're going to be taking advantage of two built-in tools here, [OrderDict](https://docs.python.org/2/library/collections.html#collections.OrderedDict) and [Enum](https://docs.python.org/3/library/enum.html)"
   ]
  },
  {
   "cell_type": "code",
   "execution_count": 1,
   "metadata": {},
   "outputs": [],
   "source": [
    "from enum import Enum  \n",
    "\n",
    "class State(Enum):\n",
    "    unvisited = 1 #White\n",
    "    visited = 2 #Black\n",
    "    visiting = 3 #Gray"
   ]
  },
  {
   "cell_type": "markdown",
   "metadata": {},
   "source": [
    "Now for the Node class we will take advantage of the OrderedDict object in case we want to keep trak of the order keys are added to the dictionary."
   ]
  },
  {
   "cell_type": "code",
   "execution_count": 2,
   "metadata": {},
   "outputs": [],
   "source": [
    "from collections import OrderedDict\n",
    "\n",
    "class Node:\n",
    "\n",
    "    def __init__(self, num):\n",
    "        self.num = num\n",
    "        self.visit_state = State.unvisited\n",
    "        self.adjacent = OrderedDict()  # key = node, val = weight\n",
    "\n",
    "    def __str__(self):\n",
    "        return str(self.num)"
   ]
  },
  {
   "cell_type": "markdown",
   "metadata": {},
   "source": [
    "Then finally the Graph:"
   ]
  },
  {
   "cell_type": "code",
   "execution_count": 3,
   "metadata": {},
   "outputs": [],
   "source": [
    "class Graph:\n",
    "\n",
    "    def __init__(self):\n",
    "        self.nodes = OrderedDict()  # key = node id, val = node\n",
    "\n",
    "    def add_node(self, num):\n",
    "        node = Node(num)\n",
    "        self.nodes[num] = node\n",
    "        return node\n",
    "\n",
    "    def add_edge(self, source, dest, weight=0):\n",
    "        if source not in self.nodes:\n",
    "            self.add_node(source)\n",
    "        if dest not in self.nodes:\n",
    "            self.add_node(dest)\n",
    "        self.nodes[source].adjacent[self.nodes[dest]] = weight"
   ]
  },
  {
   "cell_type": "code",
   "execution_count": 4,
   "metadata": {},
   "outputs": [],
   "source": [
    "g = Graph()\n",
    "g.add_edge(0, 1, 5)"
   ]
  },
  {
   "cell_type": "code",
   "execution_count": 5,
   "metadata": {},
   "outputs": [
    {
     "data": {
      "text/plain": [
       "OrderedDict([(0, <__main__.Node at 0x7fef88790be0>),\n",
       "             (1, <__main__.Node at 0x7fef88790b80>)])"
      ]
     },
     "execution_count": 5,
     "metadata": {},
     "output_type": "execute_result"
    }
   ],
   "source": [
    "g.nodes"
   ]
  },
  {
   "cell_type": "markdown",
   "metadata": {},
   "source": [
    "## Great Job!"
   ]
  }
 ],
 "metadata": {
  "kernelspec": {
   "display_name": "Python 3",
   "language": "python",
   "name": "python3"
  },
  "language_info": {
   "codemirror_mode": {
    "name": "ipython",
    "version": 3
   },
   "file_extension": ".py",
   "mimetype": "text/x-python",
   "name": "python",
   "nbconvert_exporter": "python",
   "pygments_lexer": "ipython3",
   "version": "3.8.10"
  }
 },
 "nbformat": 4,
 "nbformat_minor": 1
}
