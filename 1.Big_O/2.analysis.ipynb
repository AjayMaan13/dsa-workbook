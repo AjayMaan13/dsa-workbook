{
 "cells": [
  {
   "cell_type": "code",
   "execution_count": null,
   "id": "3a8c816d",
   "metadata": {},
   "outputs": [],
   "source": [
    "# When finding Big O for a Function, we try to find the worst case, \n",
    "# where it leads to the maximum number of operations\n",
    "\n",
    "# Search, removal, insertion have logarithmic complexity"
   ]
  },
  {
   "cell_type": "code",
   "execution_count": null,
   "id": "203ca2d0",
   "metadata": {},
   "outputs": [],
   "source": [
    "# -------------------------------\n",
    "# HOW TO ANALYZE A FUNCTION (Time Complexity)\n",
    "# -------------------------------\n",
    "\n",
    "# 1. Identify the input size (commonly 'n')\n",
    "#    - For a list: n = len(list)\n",
    "#    - For a number: n = value of number\n",
    "\n",
    "# 2. Look at each line of code and assign a cost\n",
    "#    - Simple operations (like assignment, addition) = O(1)\n",
    "\n",
    "# 3. Analyze loops\n",
    "#    - For loop: runs n times = O(n)\n",
    "#    - Nested loops: O(n) * O(n) = O(n^2)\n",
    "\n",
    "# 4. Multiply operations inside loops by number of iterations\n",
    "#    - Example: a line inside a loop that runs n times = O(n)\n",
    "\n",
    "# 5. Check function calls (e.g., sort(), len(), etc.)\n",
    "#    - Example: list.sort() = O(n log n)\n",
    "\n",
    "# 6. Add up all the operations\n",
    "#    - Combine loop costs, statements, and calls\n",
    "\n",
    "# 7. Keep only the highest order term (Big-O notation)\n",
    "#    - Ignore constants and lower-order terms\n",
    "#    - Example: O(n^2 + 3n + 10) -> O(n^2)\n",
    "\n",
    "# 8. Final result: express time complexity using Big-O\n",
    "#    - Common forms: O(1), O(log n), O(n), O(n log n), O(n^2)\n"
   ]
  },
  {
   "cell_type": "code",
   "execution_count": null,
   "id": "e4324123",
   "metadata": {},
   "outputs": [],
   "source": []
  }
 ],
 "metadata": {
  "language_info": {
   "name": "python"
  }
 },
 "nbformat": 4,
 "nbformat_minor": 5
}
