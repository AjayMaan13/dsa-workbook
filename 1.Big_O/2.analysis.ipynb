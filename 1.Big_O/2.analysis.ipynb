{
 "cells": [
  {
   "cell_type": "code",
   "execution_count": null,
   "id": "3a8c816d",
   "metadata": {},
   "outputs": [],
   "source": [
    "# When finding Big O for a Function, we try to find the worst case, \n",
    "# where it leads to the maximum number of operations\n",
    "\n",
    "# NOTE: Search, removal, insertion have logarithmic complexity"
   ]
  },
  {
   "cell_type": "code",
   "execution_count": null,
   "id": "203ca2d0",
   "metadata": {},
   "outputs": [],
   "source": [
    "# -------------------------------\n",
    "# HOW TO ANALYZE A FUNCTION (Time Complexity)\n",
    "# -------------------------------\n",
    "\n",
    "# 1. Identify the input size (commonly 'n')\n",
    "#    - For a list: n = len(list)\n",
    "#    - For a number: n = value of number\n",
    "\n",
    "# 2. Look at each line of code and assign a cost\n",
    "#    - Simple operations (like assignment, addition) = O(1)\n",
    "\n",
    "# 3. Analyze loops\n",
    "#    - For loop: runs n times = O(n)\n",
    "#    - Nested loops: O(n) * O(n) = O(n^2)\n",
    "\n",
    "# 4. Multiply operations inside loops by number of iterations\n",
    "#    - Example: a line inside a loop that runs n times = O(n)\n",
    "\n",
    "# 5. Check function calls (e.g., sort(), len(), etc.)\n",
    "#    - Example: list.sort() = O(n log n)\n",
    "\n",
    "# 6. Add up all the operations\n",
    "#    - Combine loop costs, statements, and calls\n",
    "\n",
    "# 7. Keep only the highest order term (Big-O notation)\n",
    "#    - Ignore constants and lower-order terms\n",
    "#    - Example: O(n^2 + 3n + 10) -> O(n^2)\n",
    "\n",
    "# 8. Final result: express time complexity using Big-O\n",
    "#    - Common forms: O(1), O(log n), O(n), O(n log n), O(n^2)\n"
   ]
  },
  {
   "cell_type": "code",
   "execution_count": null,
   "id": "e4324123",
   "metadata": {},
   "outputs": [],
   "source": [
    "## NOTE: Common Concepts/Ideas to use\n",
    "## NOTE: Always run the worst case, i.e item not found!! or Unsuccessful run\n",
    "\n",
    "'''\n",
    "\n",
    "1. Each operation performed takes up space and is added to Big O\n",
    "    a. return, Len(), range() = #1 (constant operations)\n",
    "    b. one_list[x] = #0 (i.e no operation, or too small difference)\n",
    "    c. addition/ subtractions, etc has #1 operation \n",
    "        -> a += 10 - b; = #3\n",
    "\n",
    "'''\n",
    "\n",
    "# EXAMPLES ->"
   ]
  },
  {
   "cell_type": "code",
   "execution_count": null,
   "id": "be383066",
   "metadata": {},
   "outputs": [],
   "source": [
    "def function1(number): \n",
    "\ttotal=0; #1\n",
    "\n",
    "\tfor i in range(0,number): # 1(from range) + n(number of time loop runs from 0 to n-1)\n",
    "\t\tx = (i+1) # (1 + 1) * n\n",
    "\t\ttotal+=(x*x) # (1 + 1 + 1) * n\n",
    "\n",
    "\treturn total # 1\n",
    "\n",
    "# T(n) = 1 + n + 2n + 3n + 1 = 6n + 2\n",
    "# T(n) = O(n)"
   ]
  },
  {
   "cell_type": "code",
   "execution_count": null,
   "id": "22507145",
   "metadata": {},
   "outputs": [],
   "source": [
    "def function2(number):\n",
    "\treturn  ((number)*(number+1)*(2*number + 1))/6 # 7 (6 operations + return)\n",
    "\n",
    "# T(n) = 7 = O(1)"
   ]
  },
  {
   "cell_type": "code",
   "execution_count": null,
   "id": "1519b63b",
   "metadata": {},
   "outputs": [],
   "source": [
    "# Example of Worst Case Taken \n",
    "\n",
    "def linear_search(my_list, key): \n",
    "    for i in range(0, len(my_list)): # 2 + n\n",
    "        if my_list[i] == key: # 1\n",
    "            return i #0, because the worst case is when the item is at the end or not found\n",
    "    return -1 #1\n",
    "\n",
    "# T(n) = n + 4 = O(n)"
   ]
  },
  {
   "cell_type": "code",
   "execution_count": null,
   "id": "f4919d00",
   "metadata": {},
   "outputs": [],
   "source": [
    "def function4(number):\n",
    "\ttotal=1 #1\n",
    "\tfor i in range(1, number): # 2 + n-1 (considering i and range as 2 operations)\n",
    "\t\ttotal=total*(i+1) # 3 * (n-1)\n",
    "\treturn total #1\n",
    "\n",
    "# T(n) = 1 + 2 + n - 1 + 3n - 3 + 1 = 4n\n",
    "# T(n) = O(n)"
   ]
  }
 ],
 "metadata": {
  "language_info": {
   "name": "python"
  }
 },
 "nbformat": 4,
 "nbformat_minor": 5
}
