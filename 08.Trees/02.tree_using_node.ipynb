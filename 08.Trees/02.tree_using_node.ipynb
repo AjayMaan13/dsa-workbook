{
 "cells": [
  {
   "cell_type": "markdown",
   "metadata": {},
   "source": [
    "# Nodes and References Implementation of a Tree\n",
    "\n",
    "## 🔗 What is a Node?\n",
    "\n",
    "A **node** is the fundamental building block of a tree - a container that holds:\n",
    "- **Data/Value** - The actual information stored\n",
    "- **References/Pointers** - Connections to other nodes\n",
    "\n",
    "**Think of it as:** A person in a family tree who knows their children's names/locations.\n",
    "\n",
    "---\n",
    "\n",
    "## 📍 References in Trees\n",
    "\n",
    "### **What are References?**\n",
    "- **Pointers** to memory locations of other nodes\n",
    "- **Addresses** that tell you where to find connected nodes\n",
    "- **Links** that create the tree structure\n",
    "\n",
    "### **Types of References:**\n",
    "\n",
    "| Reference Type | Points To | Purpose |\n",
    "|----------------|-----------|---------|\n",
    "| **Child Reference** | Children nodes | Navigate down the tree |\n",
    "| **Parent Reference** | Parent node | Navigate up the tree (optional) |\n",
    "| **Sibling Reference** | Brother/sister nodes | Horizontal navigation (rare) |\n",
    "\n",
    "---\n",
    "\n",
    "### **With Parent References:**\n",
    "```\n",
    "    A ←→ null (root)\n",
    "   / \\\n",
    "  B   C ←→ A (parent)\n",
    "     /\n",
    "    D ←→ C (parent)\n",
    "```\n",
    "\n",
    "---\n"
   ]
  },
  {
   "cell_type": "code",
   "execution_count": 1,
   "metadata": {},
   "outputs": [],
   "source": [
    "class BinaryTree(object):\n",
    "    def __init__(self,rootObj):\n",
    "        self.key = rootObj\n",
    "        self.leftChild = None\n",
    "        self.rightChild = None\n",
    "\n",
    "    def insertLeft(self,newNode):\n",
    "        if self.leftChild == None:\n",
    "            self.leftChild = BinaryTree(newNode)\n",
    "        else:\n",
    "            t = BinaryTree(newNode)\n",
    "            t.leftChild = self.leftChild\n",
    "            self.leftChild = t\n",
    "\n",
    "    def insertRight(self,newNode):\n",
    "        if self.rightChild == None:\n",
    "            self.rightChild = BinaryTree(newNode)\n",
    "        else:\n",
    "            t = BinaryTree(newNode)\n",
    "            t.rightChild = self.rightChild\n",
    "            self.rightChild = t\n",
    "\n",
    "\n",
    "    def getRightChild(self):\n",
    "        return self.rightChild\n",
    "\n",
    "    def getLeftChild(self):\n",
    "        return self.leftChild\n",
    "\n",
    "    def setRootVal(self,obj):\n",
    "        self.key = obj\n",
    "\n",
    "    def getRootVal(self):\n",
    "        return self.key"
   ]
  },
  {
   "cell_type": "markdown",
   "metadata": {},
   "source": [
    "We can see some examples of creating a tree and assigning children. Note that some outputs are Trees themselves!"
   ]
  },
  {
   "cell_type": "code",
   "execution_count": 3,
   "metadata": {},
   "outputs": [
    {
     "name": "stdout",
     "output_type": "stream",
     "text": [
      "a\n",
      "None\n",
      "<__main__.BinaryTree object at 0x7f7c951d7340>\n",
      "b\n",
      "<__main__.BinaryTree object at 0x7f7c951d7370>\n",
      "c\n",
      "hello\n"
     ]
    }
   ],
   "source": [
    "r = BinaryTree('a')\n",
    "print(r.getRootVal())\n",
    "print(r.getLeftChild())\n",
    "r.insertLeft('b')\n",
    "print(r.getLeftChild())\n",
    "print(r.getLeftChild().getRootVal())\n",
    "r.insertRight('c')\n",
    "print(r.getRightChild())\n",
    "print(r.getRightChild().getRootVal())\n",
    "r.getRightChild().setRootVal('hello')\n",
    "print(r.getRightChild().getRootVal())"
   ]
  }
 ],
 "metadata": {
  "kernelspec": {
   "display_name": "Python 3",
   "language": "python",
   "name": "python3"
  },
  "language_info": {
   "codemirror_mode": {
    "name": "ipython",
    "version": 3
   },
   "file_extension": ".py",
   "mimetype": "text/x-python",
   "name": "python",
   "nbconvert_exporter": "python",
   "pygments_lexer": "ipython3",
   "version": "3.8.10"
  }
 },
 "nbformat": 4,
 "nbformat_minor": 1
}
