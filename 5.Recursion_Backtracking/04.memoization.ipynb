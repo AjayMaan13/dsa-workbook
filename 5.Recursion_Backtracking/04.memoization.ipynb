{
 "cells": [
  {
   "cell_type": "markdown",
   "id": "727c6914",
   "metadata": {},
   "source": [
    "# 🧠 Memoization - Complete Beginner's Guide\n",
    "\n",
    "## What is Memoization?\n",
    "\n",
    "**Memoization** is an optimization technique where you store the results of expensive function calls and return the cached result when the same inputs occur again.\n",
    "\n",
    "### Simple Analogy 🎯\n",
    "Think of it like a **smart calculator** that remembers answers:\n",
    "- First time: Calculate 5 × 8 = 40 (takes time)\n",
    "- Next time: Someone asks 5 × 8 → \"Oh, I remember! It's 40\" (instant)\n",
    "\n",
    "### Key Points:\n",
    "- **Cache results** of function calls\n",
    "- **Avoid redundant calculations**\n",
    "- **Trade memory for speed**\n",
    "- Only works with **pure functions** (same input = same output)"
   ]
  },
  {
   "cell_type": "markdown",
   "id": "e89b85b9",
   "metadata": {},
   "source": [
    "## The Problem: Why Do We Need Memoization?\n",
    "\n",
    "Consider calculating Fibonacci numbers recursively:\n",
    "\n",
    "**Fibonacci(5) calculation tree:**\n",
    "```\n",
    "                  fib(5)\n",
    "                 /      \\\n",
    "             fib(4)      fib(3)\n",
    "             /     \\      /     \\\n",
    "         fib(3)   fib(2) fib(2) fib(1)\n",
    "         /    \\    /   \\   /   \\\n",
    "    fib(2) fib(1) fib(1) fib(0) fib(1) fib(0)\n",
    "    /   \\\n",
    " fib(1) fib(0)\n",
    "```\n",
    "\n",
    "**Problem**: fib(3) is calculated twice, fib(2) is calculated three times!\n",
    "\n",
    "### Time Complexity:\n",
    "- **Without memoization**: O(2^n) - exponential!\n",
    "- **With memoization**: O(n) - linear!\n",
    "\n",
    "\n",
    "```python\n",
    "def fibonacci_slow(n):\n",
    "    if n <= 1:\n",
    "        return n\n",
    "    return fibonacci_slow(n-1) + fibonacci_slow(n-2)\n",
    "\n",
    "# This will take a while for larger numbers\n",
    "print(\"Without memoization:\")\n",
    "print(f\"fibonacci_slow(10) = {fibonacci_slow(10)}\")\n",
    "```"
   ]
  },
  {
   "cell_type": "markdown",
   "id": "62f90a03",
   "metadata": {},
   "source": [
    "## Understanding Memoization with Pseudocode\n",
    "\n",
    "Let's first understand how memoization works conceptually using pseudocode examples:\n",
    "\n",
    "### Without Memoization (Original Factorial):\n",
    "\n",
    "```\n",
    "function factorial (n is a non-negative integer)\n",
    "    if n is 0 then\n",
    "        return 1 [by the convention that 0! = 1]\n",
    "    else\n",
    "        return factorial(n – 1) times n [recursively invoke factorial \n",
    "                                        with the parameter 1 less than n]\n",
    "    end if\n",
    "end function\n",
    "```\n",
    "\n",
    "### With Memoization (Optimized Factorial):\n",
    "\n",
    "```\n",
    "function factorial (n is a non-negative integer)\n",
    "    if n is 0 then\n",
    "        return 1 [by the convention that 0! = 1]\n",
    "    else if n is in lookup-table then\n",
    "        return lookup-table-value-for-n\n",
    "    else\n",
    "        let x = factorial(n – 1) times n [recursively invoke factorial\n",
    "                                         with the parameter 1 less than n]\n",
    "        store x in lookup-table in the nth slot [remember the result of n! for later]\n",
    "        return x\n",
    "    end if\n",
    "end function\n",
    "```\n"
   ]
  },
  {
   "cell_type": "code",
   "execution_count": 7,
   "id": "a396d27d",
   "metadata": {},
   "outputs": [
    {
     "name": "stdout",
     "output_type": "stream",
     "text": [
      "Without memoization:\n",
      "factorial_slow(4) = 24\n",
      "factorial_slow(5) = 120\n",
      "With memoization:\n",
      "factorial(4) = 24\n",
      "factorial(5) = 120\n",
      "Cache contents: {2: 2, 3: 6, 4: 24, 5: 120}\n"
     ]
    }
   ],
   "source": [
    "## Factorial Example - From Pseudocode to Python\n",
    "\n",
    "#Now let's implement what we learned from the pseudocode:\n",
    "\n",
    "# ❌ Without Memoization (Inefficient)\n",
    "def factorial_slow(k):\n",
    "    if k < 2:\n",
    "        return 1\n",
    "    return k * factorial_slow(k - 1)\n",
    "\n",
    "# Every call recalculates everything\n",
    "print(\"Without memoization:\")\n",
    "print(f\"factorial_slow(4) = {factorial_slow(4)}\")  # Calculates 4! from scratch\n",
    "print(f\"factorial_slow(5) = {factorial_slow(5)}\")  # Calculates 5! from scratch (including 4! again!)\n",
    "\n",
    "\n",
    "\n",
    "# ✅ With Memoization (Efficient) - Following our pseudocode\n",
    "# Create cache for known results (our \"lookup-table\")\n",
    "factorial_memo = {}\n",
    "\n",
    "def factorial(k):\n",
    "    # Base case: if n is 0, return 1\n",
    "    if k < 2: \n",
    "        return 1\n",
    "    \n",
    "    # Check if n is in lookup-table\n",
    "    if k not in factorial_memo:\n",
    "        # Calculate and store in lookup-table\n",
    "        factorial_memo[k] = k * factorial(k-1)\n",
    "    \n",
    "    # Return lookup-table-value-for-n\n",
    "    return factorial_memo[k]\n",
    "\n",
    "# Test it\n",
    "print(\"With memoization:\")\n",
    "print(f\"factorial(4) = {factorial(4)}\")  # Calculates and stores intermediate results\n",
    "print(f\"factorial(5) = {factorial(5)}\")  # Uses cached results for 4!, 3!, 2!\n",
    "print(f\"Cache contents: {factorial_memo}\")  # See what's stored in our lookup table\n"
   ]
  },
  {
   "cell_type": "code",
   "execution_count": 11,
   "id": "349bcfc6",
   "metadata": {},
   "outputs": [
    {
     "data": {
      "text/plain": [
       "\"Let's apply the same memoization concept to Fibonacci numbers:\""
      ]
     },
     "execution_count": 11,
     "metadata": {},
     "output_type": "execute_result"
    }
   ],
   "source": [
    "## Advanced Examples\n",
    "\n",
    "def fibonacci_slow(n):\n",
    "    if n == 0:\n",
    "        return 0\n",
    "    elif n == 1:\n",
    "        return 1\n",
    "    else:\n",
    "        return fibonacci_slow(n-1) + fibonacci_slow(n-2)\n",
    "\n",
    "### 1. Fibonacci with Memoization\n",
    "\n",
    "\"\"\"Let's apply the same memoization concept to Fibonacci numbers:\"\"\""
   ]
  },
  {
   "cell_type": "code",
   "execution_count": 4,
   "id": "9e5005fa",
   "metadata": {},
   "outputs": [
    {
     "name": "stdout",
     "output_type": "stream",
     "text": [
      "Fibonacci with memoization:\n",
      "fibonacci_memo(10) = 55\n",
      "Cache contents: {2: 1, 3: 2, 4: 3, 5: 5, 6: 8, 7: 13, 8: 21, 9: 34, 10: 55}\n"
     ]
    }
   ],
   "source": [
    "# Method 1: Using dictionary as cache (following our pseudocode pattern)\n",
    "fib_cache = {}\n",
    "\n",
    "def fibonacci_memo(n):\n",
    "    # Check if n is in lookup-table\n",
    "    if n in fib_cache:\n",
    "        return fib_cache[n]\n",
    "    \n",
    "    # Base case\n",
    "    if n <= 1:\n",
    "        return n\n",
    "    \n",
    "    # Calculate and store in lookup-table\n",
    "    fib_cache[n] = fibonacci_memo(n-1) + fibonacci_memo(n-2)\n",
    "    return fib_cache[n]\n",
    "\n",
    "# Test it\n",
    "print(\"Fibonacci with memoization:\")\n",
    "print(f\"fibonacci_memo(10) = {fibonacci_memo(10)}\")\n",
    "print(f\"Cache contents: {fib_cache}\")"
   ]
  },
  {
   "cell_type": "code",
   "execution_count": 5,
   "id": "78cf8600",
   "metadata": {},
   "outputs": [
    {
     "name": "stdout",
     "output_type": "stream",
     "text": [
      "fibonacci_memo2(10) = 55\n"
     ]
    }
   ],
   "source": [
    "# Method 2: Using default parameter for the cache\n",
    "def fibonacci_memo2(n, memo={}):\n",
    "    if n in memo:\n",
    "        return memo[n]\n",
    "    \n",
    "    if n <= 1:\n",
    "        return n\n",
    "    \n",
    "    memo[n] = fibonacci_memo2(n-1, memo) + fibonacci_memo2(n-2, memo)\n",
    "    return memo[n]\n",
    "\n",
    "print(f\"fibonacci_memo2(10) = {fibonacci_memo2(10)}\")"
   ]
  },
  {
   "cell_type": "code",
   "execution_count": null,
   "id": "ae7cd9a9",
   "metadata": {},
   "outputs": [
    {
     "name": "stdout",
     "output_type": "stream",
     "text": [
      "Testing with n = 30\n",
      "Without memoization: 832040 in 0.273449 seconds\n",
      "With memoization: 832040 in 0.000017 seconds\n",
      "Speedup: 16153.92x faster!\n"
     ]
    }
   ],
   "source": [
    "## Performance Comparison ##\n",
    "\n",
    "# Let's see the dramatic difference memoization makes:\n",
    "\n",
    "import time\n",
    "\n",
    "def time_function(func, n):\n",
    "    start = time.time()\n",
    "    result = func(n)\n",
    "    end = time.time()\n",
    "    return result, end - start\n",
    "\n",
    "# Test with a reasonable number for comparison\n",
    "n = 30\n",
    "\n",
    "# Clear previous cache for fair comparison\n",
    "fib_cache.clear()\n",
    "\n",
    "result1, time1 = time_function(fibonacci_slow, n)\n",
    "result2, time2 = time_function(fibonacci_memo, n)\n",
    "\n",
    "print(f\"Testing with n = {n}\")\n",
    "print(f\"Without memoization: {result1} in {time1:.6f} seconds\")\n",
    "print(f\"With memoization: {result2} in {time2:.6f} seconds\")\n",
    "if time1 > 0:\n",
    "    print(f\"Speedup: {time1/time2:.2f}x faster!\")"
   ]
  },
  {
   "cell_type": "code",
   "execution_count": null,
   "id": "642cbb36",
   "metadata": {},
   "outputs": [],
   "source": []
  }
 ],
 "metadata": {
  "kernelspec": {
   "display_name": "Python 3",
   "language": "python",
   "name": "python3"
  },
  "language_info": {
   "codemirror_mode": {
    "name": "ipython",
    "version": 3
   },
   "file_extension": ".py",
   "mimetype": "text/x-python",
   "name": "python",
   "nbconvert_exporter": "python",
   "pygments_lexer": "ipython3",
   "version": "3.10.6"
  }
 },
 "nbformat": 4,
 "nbformat_minor": 5
}
