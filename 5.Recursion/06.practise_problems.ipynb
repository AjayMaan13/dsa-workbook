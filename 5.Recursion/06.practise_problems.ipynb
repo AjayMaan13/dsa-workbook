{
 "cells": [
  {
   "cell_type": "code",
   "execution_count": null,
   "id": "43ce5dd8",
   "metadata": {},
   "outputs": [],
   "source": [
    "# Reverse a String\n",
    "\n",
    "'''\n",
    "This interview question requires you to reverse a string using recursion. \n",
    "Make sure to think of the base case here.\n",
    "\n",
    "Again, make sure you use recursion to accomplish this. Do not slice (e.g. string[::-1]) \n",
    "or use iteration, there muse be a recursive call for the function.\n",
    "'''\n",
    "\n",
    "## Solution\n",
    "'''\n",
    "In order to reverse a string using recursion we need to consider what a base and \n",
    "recursive case would look like. Here we've set a base case to be when the length\n",
    " of the string we are passing through the function is length less than or equal to 1.\n",
    "\n",
    "During the recursive case we grab the first letter and add it on to the recursive call.\n",
    "'''"
   ]
  },
  {
   "cell_type": "code",
   "execution_count": 1,
   "id": "a0ba4610",
   "metadata": {},
   "outputs": [
    {
     "data": {
      "text/plain": [
       "'dlrow olleh'"
      ]
     },
     "execution_count": 1,
     "metadata": {},
     "output_type": "execute_result"
    }
   ],
   "source": [
    "def reverse(s):\n",
    "    \n",
    "    # Base Case\n",
    "    if len(s) <= 1:\n",
    "        return s\n",
    "\n",
    "    # Recursion\n",
    "    return reverse(s[1:]) + s[0]\n",
    "\n",
    "reverse('hello world')"
   ]
  },
  {
   "cell_type": "code",
   "execution_count": null,
   "id": "3eebca81",
   "metadata": {},
   "outputs": [],
   "source": [
    "## String Permutation\n",
    "\n",
    "#Problem Statement\n",
    "\n",
    "\"\"\"Given a string, write a function that uses recursion to output a list of all the possible \n",
    "permutations of that string.\n",
    "\"\"\"\n",
    "\n",
    "\"\"\"For example, given s='abc' the function should return ['abc', 'acb', 'bac', 'bca', 'cab', 'cba']\n",
    "\"\"\"\n",
    "\n",
    "\"\"\"Note: If a character is repeated, treat each occurence as distinct, for example an input of 'xxx' \n",
    "would return a list with 6 \"versions\" of 'xxx'\n",
    "\"\"\"\n",
    "# Fill Out Your Solution Below\n",
    "\n",
    "\"\"\"Let's think about what the steps we need to take here are:\n",
    "\"\"\"\n",
    "\"\"\"Iterate through the initial string – e.g., ‘abc’.\n",
    "\"\"\"\"\"\"For each character in the initial string, set aside that character and get a list \n",
    "of all permutations of the string that’s left. So, for example, if the current iteration \n",
    "is on 'b', we’d want to find all the permutations of the string 'ac'.\n",
    "\"\"\"\n",
    "\"\"\"Once you have the list from step 2, add each element from that list to the character \n",
    "from the initial string, and append the result to our list of final results. So if \n",
    "we’re on 'b' and we’ve gotten the list ['ac', 'ca'], we’d add 'b' to those, resulting \n",
    "in 'bac' and 'bca', each of which we’d add to our final results.\n",
    "\"\"\"\n",
    "\"\"\"Return the list of final results.\n",
    "\"\"\"\n",
    "\"\"\"Let's go ahead and see this implemented:\"\"\""
   ]
  },
  {
   "cell_type": "code",
   "execution_count": 2,
   "id": "462933e7",
   "metadata": {},
   "outputs": [
    {
     "data": {
      "text/plain": [
       "['abc', 'acb', 'bac', 'bca', 'cab', 'cba']"
      ]
     },
     "execution_count": 2,
     "metadata": {},
     "output_type": "execute_result"
    }
   ],
   "source": [
    "def permute(s):\n",
    "    out = []\n",
    "    \n",
    "    # Base Case\n",
    "    if len(s) == 1:\n",
    "        out = [s]\n",
    "        \n",
    "    else:\n",
    "        # For every letter in string\n",
    "        for i, let in enumerate(s):\n",
    "            \n",
    "            # For every permutation resulting from Step 2 and 3 described above\n",
    "            for perm in permute(s[:i] + s[i+1:]):\n",
    "                \n",
    "                # Add it to output\n",
    "                out += [let + perm]\n",
    "\n",
    "    return out\n",
    "\n",
    "permute('abc')"
   ]
  },
  {
   "cell_type": "code",
   "execution_count": null,
   "id": "8875292e",
   "metadata": {},
   "outputs": [],
   "source": [
    "# Some Practice Interview Problem to Solve\n",
    "\n",
    "## Practice Problems\n",
    "\n",
    "### 1. Coin Change Problem\n",
    "\"\"\"Find minimum number of coins needed to make a given amount:\"\"\"\n",
    "#coin_change(10,[1,5,10]) = 1\n",
    "\n",
    "### 2. Grid Path Problem\n",
    "\"\"\"Find number of paths from top-left to bottom-right in an m×n grid (can only move right or down):\n",
    "\"\"\"\n",
    "\n",
    "### 3. Longest Common Subsequence\n",
    "\"\"\"Find length of longest common subsequence between two strings:\"\"\""
   ]
  }
 ],
 "metadata": {
  "kernelspec": {
   "display_name": "Python 3",
   "language": "python",
   "name": "python3"
  },
  "language_info": {
   "codemirror_mode": {
    "name": "ipython",
    "version": 3
   },
   "file_extension": ".py",
   "mimetype": "text/x-python",
   "name": "python",
   "nbconvert_exporter": "python",
   "pygments_lexer": "ipython3",
   "version": "3.10.6"
  }
 },
 "nbformat": 4,
 "nbformat_minor": 5
}
