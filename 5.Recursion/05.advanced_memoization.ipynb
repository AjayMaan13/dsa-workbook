{
 "cells": [
  {
   "cell_type": "code",
   "execution_count": 1,
   "id": "ca859158",
   "metadata": {},
   "outputs": [
    {
     "name": "stdout",
     "output_type": "stream",
     "text": [
      "Class-based memoization:\n",
      "factorial_memoized(5) = 120\n",
      "factorial_memoized(6) = 720\n",
      "Cache: {(5,): 120, (6,): 720}\n"
     ]
    }
   ],
   "source": [
    "## Class-based Memoization\n",
    "\n",
    "# We can create a reusable memoization class:\n",
    "\n",
    "class Memoize:\n",
    "    def __init__(self, f):\n",
    "        self.f = f          # Store the original function\n",
    "        self.memo = {}      # Cache for results (our lookup table)\n",
    "    \n",
    "    def __call__(self, *args):\n",
    "        # Check if we've seen these arguments before\n",
    "        if args not in self.memo:\n",
    "            # If not, call the function and store result\n",
    "            self.memo[args] = self.f(*args)\n",
    "        # Return cached result\n",
    "        return self.memo[args]\n",
    "\n",
    "# Usage example\n",
    "def factorial_simple(k):\n",
    "    if k < 2: \n",
    "        return 1\n",
    "    return k * factorial_simple(k - 1)\n",
    "\n",
    "# Wrap the function with memoization\n",
    "factorial_memoized = Memoize(factorial_simple)\n",
    "\n",
    "print(\"Class-based memoization:\")\n",
    "print(f\"factorial_memoized(5) = {factorial_memoized(5)}\")\n",
    "print(f\"factorial_memoized(6) = {factorial_memoized(6)}\")  # Will use cached values\n",
    "print(f\"Cache: {factorial_memoized.memo}\")\n"
   ]
  },
  {
   "cell_type": "code",
   "execution_count": null,
   "id": "62d104bc",
   "metadata": {},
   "outputs": [],
   "source": [
    "## Using Python Decorators for Memoization\n",
    "\n",
    "# A more Pythonic way using decorators:"
   ]
  },
  {
   "cell_type": "code",
   "execution_count": 2,
   "id": "e28d617c",
   "metadata": {},
   "outputs": [
    {
     "name": "stdout",
     "output_type": "stream",
     "text": [
      "55\n"
     ]
    }
   ],
   "source": [
    "# 🧠 Python Decorators - Quick Notes\n",
    "\n",
    "# ✅ What is a decorator?\n",
    "# A decorator is a function that modifies or extends the behavior of another function\n",
    "# without changing its source code. Use @decorator_name before the function definition.\n",
    "\n",
    "# ✅ Example without @ syntax:\n",
    "# def func(): ...\n",
    "# func = decorator(func)\n",
    "\n",
    "# ✅ Example with @ syntax:\n",
    "# @decorator\n",
    "# def func(): ...\n",
    "\n",
    "# ✅ Common uses: caching, logging, timing, authentication, etc.\n",
    "\n",
    "# ✅ Using @wraps\n",
    "from functools import wraps\n",
    "\n",
    "def memoize(func):\n",
    "    cache = {}  # Store previously computed results\n",
    "\n",
    "    @wraps(func)  # Preserves func's name, docstring, etc.\n",
    "    def wrapper(*args):\n",
    "        if args in cache:\n",
    "            return cache[args]  # Return cached result\n",
    "        result = func(*args)    # Compute and store\n",
    "        cache[args] = result\n",
    "        return result\n",
    "\n",
    "    return wrapper\n",
    "\n",
    "# ✅ Applying the decorator\n",
    "@memoize\n",
    "def fibonacci(n):\n",
    "    if n <= 1:\n",
    "        return n\n",
    "    return fibonacci(n-1) + fibonacci(n-2)\n",
    "\n",
    "# ✅ Example call\n",
    "print(fibonacci(10))  # Output: 55\n",
    "\n",
    "# ✅ Summary\n",
    "# - @decorator: wraps a function\n",
    "# - memoization: stores results for reuse\n",
    "# - @wraps(func): keeps original metadata (__name__, __doc__)\n",
    "# - cache: stores values like {(10,): 55, (9,): 34, ...}"
   ]
  },
  {
   "cell_type": "code",
   "execution_count": null,
   "id": "a9f719b4",
   "metadata": {},
   "outputs": [],
   "source": [
    "# Some Practice Interview Problem to Solve\n",
    "\n",
    "## Practice Problems\n",
    "\n",
    "### 1. Coin Change Problem\n",
    "\"\"\"Find minimum number of coins needed to make a given amount:\"\"\"\n",
    "\n",
    "\n",
    "### 2. Grid Path Problem\n",
    "\"\"\"Find number of paths from top-left to bottom-right in an m×n grid (can only move right or down):\n",
    "\"\"\"\n",
    "\n",
    "### 3. Longest Common Subsequence\n",
    "\"\"\"Find length of longest common subsequence between two strings:\"\"\""
   ]
  },
  {
   "cell_type": "code",
   "execution_count": null,
   "id": "69d2ac53",
   "metadata": {
    "vscode": {
     "languageId": "markdown"
    }
   },
   "outputs": [],
   "source": [
    "## Python's Built-in Memoization\n",
    "\n",
    "\"\"\"Python provides `functools.lru_cache` for easy memoization:\"\"\""
   ]
  },
  {
   "cell_type": "code",
   "execution_count": 1,
   "id": "8902ebce",
   "metadata": {},
   "outputs": [
    {
     "name": "stdout",
     "output_type": "stream",
     "text": [
      "fibonacci_builtin(50) = 12586269025\n",
      "Cache info: CacheInfo(hits=48, misses=51, maxsize=None, currsize=51)\n"
     ]
    }
   ],
   "source": [
    "from functools import lru_cache\n",
    "\n",
    "@lru_cache(maxsize=None)\n",
    "def fibonacci_builtin(n):\n",
    "    if n <= 1:\n",
    "        return n\n",
    "    return fibonacci_builtin(n-1) + fibonacci_builtin(n-2)\n",
    "\n",
    "print(f\"fibonacci_builtin(50) = {fibonacci_builtin(50)}\")\n",
    "print(f\"Cache info: {fibonacci_builtin.cache_info()}\")\n",
    "\n",
    "# Clear cache if needed\n",
    "fibonacci_builtin.cache_clear()"
   ]
  },
  {
   "cell_type": "markdown",
   "id": "b8db42e8",
   "metadata": {},
   "source": [
    "## 🎯 Key Takeaways\n",
    "\n",
    "1. **Memoization** = Cache + Smart Lookup\n",
    "2. **Best for**: Functions with overlapping subproblems\n",
    "3. **Trade-off**: Memory for Speed\n",
    "4. **Requirements**: Pure functions (deterministic)\n",
    "5. **Common patterns**: Recursion with repeated calls\n",
    "\n",
    "### When to Use Memoization:\n",
    "- ✅ Recursive algorithms with overlapping subproblems\n",
    "- ✅ Expensive function calls that repeat\n",
    "- ✅ Dynamic programming problems\n",
    "- ❌ Functions with side effects\n",
    "- ❌ Functions that depend on external state\n",
    "- ❌ One-time calculations\n",
    "\n",
    "### 💡 Pro Tips\n",
    "\n",
    "1. **Use Python's built-in**: `@functools.lru_cache(maxsize=None)`\n",
    "2. **Consider memory limits**: Don't cache everything forever\n",
    "3. **Profile your code**: Measure actual performance gains\n",
    "4. **Clear cache when needed**: Prevent memory leaks\n",
    "5. **Test with and without**: Compare performance\n",
    "\n",
    "### Next Steps:\n",
    "- Practice with **Fibonacci**, **Factorial**, and **Coin Change**\n",
    "- Explore **Dynamic Programming**\n",
    "- Learn about **LRU Cache** for memory-limited scenarios\n",
    "- Study more complex optimization problems\n",
    "\n",
    "Happy coding! 🚀\n"
   ]
  },
  {
   "cell_type": "markdown",
   "id": "8bf45fc2",
   "metadata": {},
   "source": []
  }
 ],
 "metadata": {
  "kernelspec": {
   "display_name": "Python 3",
   "language": "python",
   "name": "python3"
  },
  "language_info": {
   "codemirror_mode": {
    "name": "ipython",
    "version": 3
   },
   "file_extension": ".py",
   "mimetype": "text/x-python",
   "name": "python",
   "nbconvert_exporter": "python",
   "pygments_lexer": "ipython3",
   "version": "3.10.6"
  }
 },
 "nbformat": 4,
 "nbformat_minor": 5
}
