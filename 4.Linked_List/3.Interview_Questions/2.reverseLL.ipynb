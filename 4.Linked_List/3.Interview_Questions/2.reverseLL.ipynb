{
 "cells": [
  {
   "cell_type": "code",
   "execution_count": 17,
   "id": "b7b712ec",
   "metadata": {},
   "outputs": [],
   "source": [
    "#-#-# The Most Important Question #-#-#\n",
    "\n",
    "## Reverse A Linked List\n",
    "\n",
    "# The linked list structure we're using\n",
    "class LinkedList:\n",
    "\n",
    "    class Node:\n",
    "        def __init__(self, data):\n",
    "            self.data = data\n",
    "            self.nextNode = None\n",
    "        def __str__(self):\n",
    "            return self.data\n",
    "\n",
    "    def __init__(self, data):\n",
    "        self.head = None\n",
    "\n",
    "    def add(self, data):\n",
    "        \"\"\"Add element to the end of the list. O(n)\"\"\"\n",
    "        new_node = self.Node(data)\n",
    "        \n",
    "        if (self.head == None):\n",
    "            self.head = new_node\n",
    "        else:\n",
    "            current = self.head\n",
    "            while current.nextNode:\n",
    "                current = current.nextNode\n",
    "            current.nextNode = new_node\n",
    "        \n",
    "    \n",
    "    def __str__(self):\n",
    "        \"\"\"String representation of the list.\"\"\"\n",
    "        if self.head.nextNode == None:\n",
    "            return \"[]\"\n",
    "        \n",
    "        elements = []\n",
    "        current = self.head\n",
    "        while current:\n",
    "            elements.append(str(current.data))\n",
    "            current = current.nextNode\n",
    "        \n",
    "        return \" -> \".join(elements) + \" -> None\"\n",
    "            \n"
   ]
  },
  {
   "cell_type": "code",
   "execution_count": 18,
   "id": "1737aa84",
   "metadata": {},
   "outputs": [],
   "source": [
    "def reverseLL(self):\n",
    "\n",
    "        # Edge Case\n",
    "        if self.head == None or self.head.nextNode == None:\n",
    "            return self\n",
    "\n",
    "        endPointer = self.head\n",
    "        while endPointer.nextNode:\n",
    "            endPointer = endPointer.nextNode        \n",
    "    \n",
    "\n",
    "        startPointer = self.head\n",
    "\n",
    "        self.head = self.head.nextNode \n",
    "        endPointer.nextNode = startPointer\n",
    "        endPointer.nextNode.nextNode = None\n",
    "        startPointer = self.head\n",
    "\n",
    "        \n",
    "        while endPointer != startPointer:\n",
    "             self.head = self.head.nextNode\n",
    "             startPointer.nextNode = endPointer.nextNode\n",
    "             endPointer.nextNode = startPointer\n",
    "\n",
    "             startPointer = self.head\n",
    "\n",
    "        return self         \n",
    "\n",
    "\n",
    "\n",
    "# OR a more Defined version / Less Code / O(1) space and O(n) time complexity\n",
    "\n",
    "def reverse_iterative(self):\n",
    "        \"\"\"Reverse linked list iteratively with O(1) space complexity\"\"\"\n",
    "        if not self.head:\n",
    "            return\n",
    "        \n",
    "        prev = None\n",
    "        current = self.head\n",
    "        \n",
    "        while current:\n",
    "            next_temp = current.nextNode  # Store next node\n",
    "            current.nextNode = prev       # Reverse the link\n",
    "            prev = current               # Move prev forward\n",
    "            current = next_temp          # Move current forward\n",
    "        \n",
    "        self.head = prev  # Update head to the new first node"
   ]
  },
  {
   "cell_type": "code",
   "execution_count": 19,
   "id": "dd9b474a",
   "metadata": {},
   "outputs": [
    {
     "name": "stdout",
     "output_type": "stream",
     "text": [
      "A -> B -> C -> D -> E -> None\n"
     ]
    }
   ],
   "source": [
    "ll = LinkedList(None)\n",
    "\n",
    "# Add 5 elements using the add method\n",
    "ll.add(\"A\")\n",
    "ll.add(\"B\")\n",
    "ll.add(\"C\")\n",
    "ll.add(\"D\")\n",
    "ll.add(\"E\")\n",
    "\n",
    "# Print the linked list\n",
    "ll.__str__()\n",
    "print(ll)"
   ]
  },
  {
   "cell_type": "code",
   "execution_count": 20,
   "id": "fee28d18",
   "metadata": {},
   "outputs": [
    {
     "name": "stdout",
     "output_type": "stream",
     "text": [
      "E -> D -> C -> B -> A -> None\n"
     ]
    }
   ],
   "source": [
    "reverseLL(ll)\n",
    "print(ll)"
   ]
  }
 ],
 "metadata": {
  "kernelspec": {
   "display_name": "Python 3",
   "language": "python",
   "name": "python3"
  },
  "language_info": {
   "codemirror_mode": {
    "name": "ipython",
    "version": 3
   },
   "file_extension": ".py",
   "mimetype": "text/x-python",
   "name": "python",
   "nbconvert_exporter": "python",
   "pygments_lexer": "ipython3",
   "version": "3.10.6"
  }
 },
 "nbformat": 4,
 "nbformat_minor": 5
}
