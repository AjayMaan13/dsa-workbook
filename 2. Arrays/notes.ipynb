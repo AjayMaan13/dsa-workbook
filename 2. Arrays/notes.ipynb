{
 "cells": [
  {
   "cell_type": "code",
   "execution_count": null,
   "id": "0c37e716",
   "metadata": {},
   "outputs": [
    {
     "name": "stdout",
     "output_type": "stream",
     "text": [
      "[1, 2, 3, 4]\n"
     ]
    }
   ],
   "source": [
    "# Array can be a List, Tuple, or String\n",
    "# Arrays store more memory than it needs during creation, \n",
    "# and if exceeded, it creates an arrays double the original size\n",
    "\n",
    "# Individual byte of a computer memory can be stored and retrieved in O(1)\n",
    "\n",
    "List1 = [1,2]\n",
    "List1.extend([3,4])\n",
    "print(List1)"
   ]
  },
  {
   "cell_type": "code",
   "execution_count": null,
   "id": "1ff6d79c",
   "metadata": {},
   "outputs": [],
   "source": [
    "# Class in Arrays\n",
    "\n",
    "class ClassName:\n",
    "\tdef __init__(self, argument_list):\n",
    "\t\tself.attribute1 = ...   # this is the equivalent of data members\n",
    "\t\tself.attribute2 = ...   # in c++\n",
    "\n",
    "\tdef function1(self, arguments):  # this is the way we define member functions\n",
    "\t\t..."
   ]
  },
  {
   "cell_type": "code",
   "execution_count": null,
   "id": "3d6a7960",
   "metadata": {},
   "outputs": [],
   "source": [
    "# Derived Class in Arrays\n",
    "\n",
    "class BaseClass:\n",
    "\tdef __init__(self, argument_list):\n",
    "\t\tself.attribute1 = ...\n",
    "\t\tself.attribute2 = ...\n",
    "\n",
    "\tdef function1(self, arguments):\n",
    "\t\t...\n",
    "\n",
    "class DerivedClass(BaseClass):\n",
    "\tdef __init__(self, argument_list):\n",
    "\t\tsuper().__init__(arguments_for_attribute1_and_attribute2)    # notice you don't use self in this call\n",
    "\t\tself.attribute3 = ...\n",
    "\n",
    "\tdef function1(self, arguments):\n",
    "\t\t... # overrides base class function\n",
    "\n",
    "\tdef function2(self, arguments):\n",
    "\t\t... # new function exclusive to derived class\n"
   ]
  },
  {
   "cell_type": "code",
   "execution_count": null,
   "id": "5b84d9f2",
   "metadata": {},
   "outputs": [],
   "source": [
    "# Dynamic Array similar to how Python List works in real\n",
    "\n",
    "import ctypes\n",
    "\n",
    "class DynamicArray(object):\n",
    "    '''\n",
    "    DYNAMIC ARRAY CLASS (Similar to Python List)\n",
    "    '''\n",
    "    \n",
    "    def __init__(self):\n",
    "        self.n = 0 # Count actual elements (Default is 0)\n",
    "        self.capacity = 1 # Default Capacity\n",
    "        self.A = self.make_array(self.capacity)\n",
    "        \n",
    "    def __len__(self):\n",
    "        \"\"\"\n",
    "        Return number of elements sorted in array\n",
    "        \"\"\"\n",
    "        return self.n\n",
    "    \n",
    "    def __getitem__(self,k):\n",
    "        \"\"\"\n",
    "        Return element at index k\n",
    "        \"\"\"\n",
    "        if not 0 <= k <self.n:\n",
    "            return IndexError('K is out of bounds!') # Check it k index is in bounds of array\n",
    "        \n",
    "        return self.A[k] #Retrieve from array at index k\n",
    "        \n",
    "    def append(self, ele):\n",
    "        \"\"\"\n",
    "        Add element to end of the array\n",
    "        \"\"\"\n",
    "        if self.n == self.capacity:\n",
    "            self._resize(2*self.capacity) #Double capacity if not enough room\n",
    "        \n",
    "        self.A[self.n] = ele #Set self.n index to element\n",
    "        self.n += 1\n",
    "        \n",
    "    def _resize(self,new_cap):\n",
    "        \"\"\"\n",
    "        Resize internal array to capacity new_cap\n",
    "        \"\"\"\n",
    "        \n",
    "        B = self.make_array(new_cap) # New bigger array\n",
    "        \n",
    "        for k in range(self.n): # Reference all existing values\n",
    "            B[k] = self.A[k]\n",
    "            \n",
    "        self.A = B # Call A the new bigger array\n",
    "        self.capacity = new_cap # Reset the capacity\n",
    "        \n",
    "    def make_array(self,new_cap):\n",
    "        \"\"\"\n",
    "        Returns a new array with new_cap capacity\n",
    "        \"\"\"\n",
    "        return (new_cap * ctypes.py_object)() # similar to \"new\" in C/C++"
   ]
  }
 ],
 "metadata": {
  "kernelspec": {
   "display_name": "Python 3",
   "language": "python",
   "name": "python3"
  },
  "language_info": {
   "codemirror_mode": {
    "name": "ipython",
    "version": 3
   },
   "file_extension": ".py",
   "mimetype": "text/x-python",
   "name": "python",
   "nbconvert_exporter": "python",
   "pygments_lexer": "ipython3",
   "version": "3.10.6"
  }
 },
 "nbformat": 4,
 "nbformat_minor": 5
}
