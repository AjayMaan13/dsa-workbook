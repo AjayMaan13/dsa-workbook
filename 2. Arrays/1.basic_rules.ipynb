{
 "cells": [
  {
   "cell_type": "code",
   "execution_count": null,
   "id": "08cdcda7",
   "metadata": {},
   "outputs": [],
   "source": [
    "# Array can be a List, Tuple, or String\n",
    "# Arrays store more memory than it needs during creation, \n",
    "# and if exceeded, it creates an arrays double the original size\n",
    "\n",
    "# Individual byte of a computer memory can be stored and retrieved in O(1)\n",
    "\n",
    "List1 = [1,2]\n",
    "List1.extend([3,4])\n",
    "print(List1)"
   ]
  },
  {
   "cell_type": "code",
   "execution_count": null,
   "id": "1bb8d891",
   "metadata": {},
   "outputs": [],
   "source": [
    "# =======================================\n",
    "#         Python List Methods Table\n",
    "# =======================================\n",
    "# Method Name    | Usage                  | Explanation\n",
    "# -------------- | ---------------------- | -------------------------------\n",
    "# append         | a_list.append(item)     | Adds item to the end of a list\n",
    "# insert         | a_list.insert(i, item)  | Inserts item at index i\n",
    "# pop            | a_list.pop()            | Removes & returns the last item\n",
    "# pop            | a_list.pop(i)           | Removes & returns item at index i\n",
    "# sort           | a_list.sort()           | Sorts the list in place (ascending)\n",
    "# reverse        | a_list.reverse()        | Reverses the list in place\n",
    "# del            | del a_list[i]           | Deletes item at index i\n",
    "# index          | a_list.index(item)      | Returns index of first occurrence\n",
    "# count          | a_list.count(item)      | Counts how many times item appears\n",
    "# remove         | a_list.remove(item)     | Removes first occurrence of item\n",
    "# =======================================\n"
   ]
  },
  {
   "cell_type": "code",
   "execution_count": null,
   "id": "d8a176c7",
   "metadata": {},
   "outputs": [],
   "source": [
    "# ===============================================\n",
    "#       Table 4: String Methods in Python\n",
    "# ===============================================\n",
    "# Method Name | Usage                     | Explanation\n",
    "# ----------- | ------------------------- | --------------------------------------------\n",
    "# center      | a_string.center(w)        | Centers the string in a field of width w\n",
    "# count       | a_string.count(item)      | Counts how many times item appears\n",
    "# ljust       | a_string.ljust(w)         | Left-justifies string in field of width w\n",
    "# lower       | a_string.lower()          | Converts the string to all lowercase\n",
    "# rjust       | a_string.rjust(w)         | Right-justifies string in field of width w\n",
    "# find        | a_string.find(item)       | Returns index of first occurrence of item\n",
    "# split       | a_string.split(s_char)    | Splits string into substrings at s_char\n",
    "# ===============================================\n"
   ]
  }
 ],
 "metadata": {
  "language_info": {
   "name": "python"
  }
 },
 "nbformat": 4,
 "nbformat_minor": 5
}
