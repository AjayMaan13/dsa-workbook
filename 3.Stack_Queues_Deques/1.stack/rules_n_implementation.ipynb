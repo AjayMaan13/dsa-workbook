{
 "cells": [
  {
   "cell_type": "code",
   "execution_count": null,
   "id": "6fa4b620",
   "metadata": {},
   "outputs": [],
   "source": [
    "# Stack Notes\n",
    "\n",
    "'''\n",
    "What is a Stack?\n",
    "- Ordered collection where addition and removal happen at the same end\n",
    "- The end is called \"top\", opposite end is \"base\"\n",
    "- LIFO principle: Last-In First-Out\n",
    "- Newest items near top, oldest items near base\n",
    "'''\n",
    "\n",
    "# Stack Operations:\n",
    "# - Push: Add item to top of stack\n",
    "# - Pop: Remove item from top of stack\n",
    "\n",
    "'''\n",
    "Key Properties:\n",
    "- Items closer to base have been in stack longest\n",
    "- Most recently added item is first to be removed\n",
    "- Reverses order of items (insertion order is reverse of removal order)\n",
    "'''\n",
    "\n",
    "# Real-world Examples:\n",
    "# - Web browser Back button (URLs stored in stack)\n",
    "# - Undo functionality in applications\n",
    "# - Function call stack in programming\n",
    "# - Stack of plates in cafeteria\n",
    "\n",
    "'''\n",
    "Visual Example:\n",
    "Push sequence: 1, 2, 3, 4, 5, 6\n",
    "Stack after pushes: [1, 2, 3, 4, 5, 6] (6 at top)\n",
    "Pop sequence: 6, 5, 4, 3, 2, 1 (reverse order)\n",
    "'''\n",
    "\n",
    "# Time Complexity:\n",
    "# - Push: O(1)\n",
    "# - Pop: O(1)\n",
    "# - Peek/Top: O(1)\n",
    "\n",
    "'''\n",
    "Applications:\n",
    "- Expression evaluation\n",
    "- Syntax parsing\n",
    "- Backtracking algorithms\n",
    "- Memory management\n",
    "'''"
   ]
  },
  {
   "cell_type": "code",
   "execution_count": null,
   "id": "c0817649",
   "metadata": {},
   "outputs": [],
   "source": [
    "'''\n",
    "The stack abstract data type is defined by the following structure and operations. \n",
    "A stack is structured, as described above, as an ordered collection of items where items are added to \n",
    "and removed from the end called the “top.” Stacks are ordered LIFO. The stack operations are given below.\n",
    "\n",
    "- Stack() creates a new stack that is empty. It needs no parameters and returns an empty stack.\n",
    "- push(item) adds a new item to the top of the stack. It needs the item and returns nothing.\n",
    "- pop() removes the top item from the stack. It needs no parameters and returns the item. The stack is modified.\n",
    "- peek() returns the top item from the stack but does not remove it. It needs no parameters. The stack is not modified.\n",
    "- isEmpty() tests to see whether the stack is empty. It needs no parameters and returns a boolean value.\n",
    "- size() returns the number of items on the stack. It needs no parameters and returns an integer.\n",
    "'''"
   ]
  },
  {
   "cell_type": "code",
   "execution_count": 1,
   "id": "b2efd7de",
   "metadata": {},
   "outputs": [],
   "source": [
    "class Stack:\n",
    "    \n",
    "    \n",
    "    def __init__(self):\n",
    "        self.items = []\n",
    "\n",
    "    def isEmpty(self):\n",
    "        return self.items == []\n",
    "\n",
    "    def push(self, item):\n",
    "        self.items.append(item)\n",
    "\n",
    "    def pop(self):\n",
    "        return self.items.pop()\n",
    "\n",
    "    def peek(self):\n",
    "        return self.items[len(self.items)-1]\n",
    "\n",
    "    def size(self):\n",
    "        return len(self.items)"
   ]
  },
  {
   "cell_type": "code",
   "execution_count": 2,
   "id": "121fc924",
   "metadata": {},
   "outputs": [],
   "source": [
    "s = Stack()"
   ]
  },
  {
   "cell_type": "code",
   "execution_count": 3,
   "id": "56534e7d",
   "metadata": {},
   "outputs": [
    {
     "name": "stdout",
     "output_type": "stream",
     "text": [
      "True\n"
     ]
    }
   ],
   "source": [
    "print(s.isEmpty())\n"
   ]
  },
  {
   "cell_type": "code",
   "execution_count": 4,
   "id": "b0d2164f",
   "metadata": {},
   "outputs": [],
   "source": [
    "s.push(1)\n",
    "s.push('two')"
   ]
  },
  {
   "cell_type": "code",
   "execution_count": 5,
   "id": "ae71171f",
   "metadata": {},
   "outputs": [
    {
     "data": {
      "text/plain": [
       "'two'"
      ]
     },
     "execution_count": 5,
     "metadata": {},
     "output_type": "execute_result"
    }
   ],
   "source": [
    "s.peek()"
   ]
  },
  {
   "cell_type": "code",
   "execution_count": null,
   "id": "2e4bfd88",
   "metadata": {},
   "outputs": [],
   "source": [
    "s.push(True)"
   ]
  },
  {
   "cell_type": "code",
   "execution_count": 7,
   "id": "6f434aec",
   "metadata": {},
   "outputs": [
    {
     "data": {
      "text/plain": [
       "3"
      ]
     },
     "execution_count": 7,
     "metadata": {},
     "output_type": "execute_result"
    }
   ],
   "source": [
    "s.size()"
   ]
  },
  {
   "cell_type": "code",
   "execution_count": 8,
   "id": "a69f2f67",
   "metadata": {},
   "outputs": [
    {
     "data": {
      "text/plain": [
       "True"
      ]
     },
     "execution_count": 8,
     "metadata": {},
     "output_type": "execute_result"
    }
   ],
   "source": [
    "s.pop()"
   ]
  },
  {
   "cell_type": "code",
   "execution_count": 9,
   "id": "1bc44722",
   "metadata": {},
   "outputs": [
    {
     "data": {
      "text/plain": [
       "'two'"
      ]
     },
     "execution_count": 9,
     "metadata": {},
     "output_type": "execute_result"
    }
   ],
   "source": [
    "s.pop()"
   ]
  },
  {
   "cell_type": "code",
   "execution_count": 10,
   "id": "e8dd280b",
   "metadata": {},
   "outputs": [
    {
     "data": {
      "text/plain": [
       "1"
      ]
     },
     "execution_count": 10,
     "metadata": {},
     "output_type": "execute_result"
    }
   ],
   "source": [
    "s.pop()"
   ]
  },
  {
   "cell_type": "code",
   "execution_count": 12,
   "id": "2926fefb",
   "metadata": {},
   "outputs": [
    {
     "data": {
      "text/plain": [
       "0"
      ]
     },
     "execution_count": 12,
     "metadata": {},
     "output_type": "execute_result"
    }
   ],
   "source": [
    "s.size()"
   ]
  },
  {
   "cell_type": "code",
   "execution_count": 13,
   "id": "6aca9557",
   "metadata": {},
   "outputs": [
    {
     "data": {
      "text/plain": [
       "True"
      ]
     },
     "execution_count": 13,
     "metadata": {},
     "output_type": "execute_result"
    }
   ],
   "source": [
    "s.isEmpty()"
   ]
  }
 ],
 "metadata": {
  "kernelspec": {
   "display_name": "Python 3",
   "language": "python",
   "name": "python3"
  },
  "language_info": {
   "codemirror_mode": {
    "name": "ipython",
    "version": 3
   },
   "file_extension": ".py",
   "mimetype": "text/x-python",
   "name": "python",
   "nbconvert_exporter": "python",
   "pygments_lexer": "ipython3",
   "version": "3.10.6"
  }
 },
 "nbformat": 4,
 "nbformat_minor": 5
}
