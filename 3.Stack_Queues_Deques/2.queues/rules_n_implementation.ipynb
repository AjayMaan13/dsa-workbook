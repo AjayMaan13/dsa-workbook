{
 "cells": [
  {
   "cell_type": "code",
   "execution_count": null,
   "id": "6fa4b620",
   "metadata": {},
   "outputs": [],
   "source": [
    "# Queue Notes\n",
    "\n",
    "'''\n",
    "What is a Queue?\n",
    "- Ordered collection where addition happens at one end, removal at other end\n",
    "- Addition end called \"rear\" or \"back\"\n",
    "- Removal end called \"front\"\n",
    "- FIFO principle: First-In First-Out\n",
    "- Also known as \"first-come first-served\"\n",
    "'''\n",
    "\n",
    "# Queue Operations:\n",
    "# - Enqueue: Add item to rear of queue\n",
    "# - Dequeue: Remove item from front of queue\n",
    "\n",
    "'''\n",
    "Key Properties:\n",
    "- Most recently added item waits at end of collection\n",
    "- Item in collection longest is at front\n",
    "- Elements enter at rear and move toward front\n",
    "- First person in line is first to be served\n",
    "'''\n",
    "\n",
    "# Real-world Examples:\n",
    "# - Waiting in line for movies\n",
    "# - Checkout line at grocery store\n",
    "# - Cafeteria line\n",
    "# - Print job queue\n",
    "# - CPU task scheduling\n",
    "\n",
    "'''\n",
    "Visual Example:\n",
    "Enqueue sequence: 1, 2, 3, 4\n",
    "Queue state: Front [1, 2, 3, 4] Rear\n",
    "Dequeue sequence: 1, 2, 3, 4 (same order as insertion)\n",
    "'''\n",
    "\n",
    "# Time Complexity:\n",
    "# - Enqueue: O(1)\n",
    "# - Dequeue: O(1)\n",
    "# - Front/Peek: O(1)\n",
    "\n",
    "'''\n",
    "Applications:\n",
    "- BFS (Breadth-First Search)\n",
    "- Process scheduling\n",
    "- Buffer for data streams\n",
    "- Handling requests in web servers\n",
    "'''"
   ]
  },
  {
   "cell_type": "code",
   "execution_count": null,
   "id": "7ba25870",
   "metadata": {},
   "outputs": [],
   "source": [
    "'''\n",
    "- Queue() creates a new queue that is empty. It needs no parameters and returns an empty queue.\n",
    "- enqueue(item) adds a new item to the rear of the queue. It needs the item and returns nothing.\n",
    "- dequeue() removes the front item from the queue. It needs no parameters and returns the item. The queue is modified.\n",
    "- isEmpty() tests to see whether the queue is empty. It needs no parameters and returns a boolean value.\n",
    "- size() returns the number of items in the queue. It needs no parameters and returns an integer.\n",
    "'''"
   ]
  },
  {
   "cell_type": "code",
   "execution_count": 1,
   "id": "e9193594",
   "metadata": {},
   "outputs": [],
   "source": [
    "class Queue:\n",
    "    def __init__(self):\n",
    "        self.items = []\n",
    "\n",
    "    def isEmpty(self):\n",
    "        return self.items == []\n",
    "\n",
    "    def enqueue(self, item):\n",
    "        self.items.insert(0,item)\n",
    "\n",
    "    def dequeue(self):\n",
    "        return self.items.pop()\n",
    "\n",
    "    def size(self):\n",
    "        return len(self.items)"
   ]
  },
  {
   "cell_type": "code",
   "execution_count": 2,
   "id": "71cd740b",
   "metadata": {},
   "outputs": [],
   "source": [
    "q = Queue()"
   ]
  },
  {
   "cell_type": "code",
   "execution_count": 3,
   "id": "61abf153",
   "metadata": {},
   "outputs": [
    {
     "data": {
      "text/plain": [
       "0"
      ]
     },
     "execution_count": 3,
     "metadata": {},
     "output_type": "execute_result"
    }
   ],
   "source": [
    "q.size()"
   ]
  },
  {
   "cell_type": "code",
   "execution_count": 4,
   "id": "44119b39",
   "metadata": {},
   "outputs": [
    {
     "data": {
      "text/plain": [
       "True"
      ]
     },
     "execution_count": 4,
     "metadata": {},
     "output_type": "execute_result"
    }
   ],
   "source": [
    "q.isEmpty()"
   ]
  },
  {
   "cell_type": "code",
   "execution_count": 5,
   "id": "0b3a94a7",
   "metadata": {},
   "outputs": [],
   "source": [
    "q.enqueue(1)"
   ]
  },
  {
   "cell_type": "code",
   "execution_count": 6,
   "id": "521232b8",
   "metadata": {},
   "outputs": [
    {
     "data": {
      "text/plain": [
       "1"
      ]
     },
     "execution_count": 6,
     "metadata": {},
     "output_type": "execute_result"
    }
   ],
   "source": [
    "q.dequeue()"
   ]
  }
 ],
 "metadata": {
  "kernelspec": {
   "display_name": "Python 3",
   "language": "python",
   "name": "python3"
  },
  "language_info": {
   "codemirror_mode": {
    "name": "ipython",
    "version": 3
   },
   "file_extension": ".py",
   "mimetype": "text/x-python",
   "name": "python",
   "nbconvert_exporter": "python",
   "pygments_lexer": "ipython3",
   "version": "3.10.6"
  }
 },
 "nbformat": 4,
 "nbformat_minor": 5
}
