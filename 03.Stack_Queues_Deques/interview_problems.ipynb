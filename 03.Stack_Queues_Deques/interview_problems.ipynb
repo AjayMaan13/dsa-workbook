{
 "cells": [
  {
   "cell_type": "code",
   "execution_count": null,
   "id": "843abd56",
   "metadata": {},
   "outputs": [],
   "source": [
    "# Balanced Parentheses Check\n",
    "\n",
    "'''\n",
    "Problem Statement:\n",
    "\n",
    " Given a string of opening and closing parentheses, check whether it’s balanced. We have 3 types of parentheses:\n",
    " round brackets: (), square brackets: [], and curly brackets: {}. Assume that the string doesn’t contain \n",
    " any other character than these, no spaces words or numbers. As a reminder, balanced parentheses require \n",
    " every opening parenthesis to be closed in the reverse order opened. For example ‘([])’ is balanced\n",
    " but ‘([)]’ is not.\n",
    "\n",
    " You can assume the input string has no spaces.\n",
    "'''"
   ]
  },
  {
   "cell_type": "code",
   "execution_count": 5,
   "id": "b7daa6c5",
   "metadata": {},
   "outputs": [],
   "source": [
    "def balance_check(s):\n",
    "\n",
    "    if len(s)%2 != 0:\n",
    "        return False\n",
    "    \n",
    "    opening = set('([{')\n",
    "    matches = set([ ('(',')'), ('[',']'), ('{','}') ])\n",
    "    stack = []\n",
    "\n",
    "    for paren in s:\n",
    "        if paren in opening:\n",
    "            stack.append(paren)\n",
    "        else:\n",
    "            if len(stack) == 0: \n",
    "                return False\n",
    "            \n",
    "            last_open = stack.pop()\n",
    "\n",
    "            if (last_open,paren) not in matches:\n",
    "                return False\n",
    "    \n",
    "    return len(stack) == 0"
   ]
  },
  {
   "cell_type": "code",
   "execution_count": 6,
   "id": "56128c65",
   "metadata": {},
   "outputs": [
    {
     "data": {
      "text/plain": [
       "True"
      ]
     },
     "execution_count": 6,
     "metadata": {},
     "output_type": "execute_result"
    }
   ],
   "source": [
    "balance_check('[]')"
   ]
  },
  {
   "cell_type": "code",
   "execution_count": 7,
   "id": "409c919b",
   "metadata": {},
   "outputs": [
    {
     "data": {
      "text/plain": [
       "True"
      ]
     },
     "execution_count": 7,
     "metadata": {},
     "output_type": "execute_result"
    }
   ],
   "source": [
    "balance_check('()[]{{[[()]]}}')"
   ]
  },
  {
   "cell_type": "code",
   "execution_count": 8,
   "id": "0d5ae442",
   "metadata": {},
   "outputs": [
    {
     "data": {
      "text/plain": [
       "False"
      ]
     },
     "execution_count": 8,
     "metadata": {},
     "output_type": "execute_result"
    }
   ],
   "source": [
    "balance_check('()[]{{[[()]]}')"
   ]
  },
  {
   "cell_type": "code",
   "execution_count": null,
   "id": "0f698321",
   "metadata": {},
   "outputs": [],
   "source": [
    "#Implement a Queue - Using Two Stacks\n",
    "\n",
    "'''\n",
    "Given the Stack class below, implement a Queue class using two stacks! \n",
    "Note, this is a \"classic\" interview problem. Use a Python list data \n",
    "structure as your Stack.\n",
    "'''"
   ]
  },
  {
   "cell_type": "code",
   "execution_count": null,
   "id": "50a36195",
   "metadata": {},
   "outputs": [],
   "source": [
    "class Queue2Stacks(object) :\n",
    "    def _init_(self):\n",
    "        # Two Stacks\n",
    "        self.instack = []\n",
    "        self.outstack = []\n",
    "\n",
    "    def enqueue(self, element) :\n",
    "        self.instack.append(element)\n",
    "\n",
    "    def dequeue (self):\n",
    "        if not self.outstack:\n",
    "            while self.instack:\n",
    "                self.outstack.append(self.instack.pop())\n",
    "        return self.outstack.pop()"
   ]
  }
 ],
 "metadata": {
  "kernelspec": {
   "display_name": "Python 3",
   "language": "python",
   "name": "python3"
  },
  "language_info": {
   "codemirror_mode": {
    "name": "ipython",
    "version": 3
   },
   "file_extension": ".py",
   "mimetype": "text/x-python",
   "name": "python",
   "nbconvert_exporter": "python",
   "pygments_lexer": "ipython3",
   "version": "3.10.6"
  }
 },
 "nbformat": 4,
 "nbformat_minor": 5
}
