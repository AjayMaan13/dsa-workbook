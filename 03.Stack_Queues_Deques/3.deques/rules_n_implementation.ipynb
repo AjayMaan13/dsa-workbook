{
 "cells": [
  {
   "cell_type": "code",
   "execution_count": null,
   "id": "6fa4b620",
   "metadata": {},
   "outputs": [],
   "source": [
    "# Deque Notes\n",
    "\n",
    "'''\n",
    "What is a Deque?\n",
    "- A deque (double-ended queue) is an ordered collection similar to queue\n",
    "- Also known as a double-ended queue\n",
    "- Has two ends: front and rear\n",
    "- Items remain positioned in the collection\n",
    "'''\n",
    "\n",
    "# Key Difference from Queue/Stack:\n",
    "# - Deque has unrestricted nature of adding and removing items\n",
    "# - New items can be added at either front or rear\n",
    "# - Existing items can be removed from either end\n",
    "\n",
    "'''\n",
    "Deque Operations:\n",
    "- Add Front: Insert item at front end\n",
    "- Add Rear: Insert item at rear end  \n",
    "- Remove Front: Remove item from front end\n",
    "- Remove Rear: Remove item from rear end\n",
    "'''\n",
    "\n",
    "# Hybrid Structure:\n",
    "# - Provides all capabilities of stacks and queues in single data structure\n",
    "# - Can behave like a stack (add/remove from same end)\n",
    "# - Can behave like a queue (add at one end, remove from other)\n",
    "\n",
    "'''\n",
    "Important Notes:\n",
    "- Does not enforce LIFO or FIFO orderings like stacks/queues\n",
    "- Programmer must maintain consistent use of operations\n",
    "- More flexible but requires discipline in usage\n",
    "'''\n",
    "\n",
    "# Visual Representation:\n",
    "# Front [item1, item2, item3, item4, item5] Rear\n",
    "#   ↑                                        ↑\n",
    "# Can add/remove                      Can add/remove\n",
    "\n",
    "'''\n",
    "Time Complexity:\n",
    "- Add Front: O(1)\n",
    "- Add Rear: O(1)\n",
    "- Remove Front: O(1)\n",
    "- Remove Rear: O(1)\n",
    "'''\n",
    "\n",
    "# Applications:\n",
    "# - Undo/Redo functionality\n",
    "# - Browser history navigation\n",
    "# - Palindrome checking\n",
    "# - Sliding window algorithms"
   ]
  },
  {
   "cell_type": "code",
   "execution_count": null,
   "id": "07079270",
   "metadata": {},
   "outputs": [],
   "source": [
    "'''\n",
    "- Deque() creates a new deque that is empty. It needs no parameters and returns an empty deque.\n",
    "- addFront(item) adds a new item to the front of the deque. It needs the item and returns nothing.\n",
    "- addRear(item) adds a new item to the rear of the deque. It needs the item and returns nothing.\n",
    "- removeFront() removes the front item from the deque. It needs no parameters and returns the item. The deque is modified.\n",
    "- removeRear() removes the rear item from the deque. It needs no parameters and returns the item. The deque is modified.\n",
    "- isEmpty() tests to see whether the deque is empty. It needs no parameters and returns a boolean value.\n",
    "- size() returns the number of items in the deque. It needs no parameters and returns an integer.\n",
    "'''"
   ]
  },
  {
   "cell_type": "code",
   "execution_count": 1,
   "id": "9c366dd8",
   "metadata": {},
   "outputs": [],
   "source": [
    "class Deque:\n",
    "    def __init__(self):\n",
    "        self.items = []\n",
    "\n",
    "    def isEmpty(self):\n",
    "        return self.items == []\n",
    "\n",
    "    def addFront(self, item):\n",
    "        self.items.append(item)\n",
    "\n",
    "    def addRear(self, item):\n",
    "        self.items.insert(0,item)\n",
    "\n",
    "    def removeFront(self):\n",
    "        return self.items.pop()\n",
    "\n",
    "    def removeRear(self):\n",
    "        return self.items.pop(0)\n",
    "\n",
    "    def size(self):\n",
    "        return len(self.items)"
   ]
  },
  {
   "cell_type": "code",
   "execution_count": 2,
   "id": "54636039",
   "metadata": {},
   "outputs": [
    {
     "data": {
      "text/plain": [
       "2"
      ]
     },
     "execution_count": 2,
     "metadata": {},
     "output_type": "execute_result"
    }
   ],
   "source": [
    "d = Deque()\n",
    "d.addFront('hello')\n",
    "d.addRear('world')\n",
    "d.size()"
   ]
  },
  {
   "cell_type": "code",
   "execution_count": 3,
   "id": "5bd0b15b",
   "metadata": {},
   "outputs": [
    {
     "name": "stdout",
     "output_type": "stream",
     "text": [
      "hello world\n"
     ]
    }
   ],
   "source": [
    "print(d.removeFront() + ' ' +  d.removeRear())"
   ]
  },
  {
   "cell_type": "code",
   "execution_count": 4,
   "id": "1add1628",
   "metadata": {},
   "outputs": [
    {
     "data": {
      "text/plain": [
       "0"
      ]
     },
     "execution_count": 4,
     "metadata": {},
     "output_type": "execute_result"
    }
   ],
   "source": [
    "d.size()"
   ]
  }
 ],
 "metadata": {
  "kernelspec": {
   "display_name": "Python 3",
   "language": "python",
   "name": "python3"
  },
  "language_info": {
   "codemirror_mode": {
    "name": "ipython",
    "version": 3
   },
   "file_extension": ".py",
   "mimetype": "text/x-python",
   "name": "python",
   "nbconvert_exporter": "python",
   "pygments_lexer": "ipython3",
   "version": "3.10.6"
  }
 },
 "nbformat": 4,
 "nbformat_minor": 5
}
